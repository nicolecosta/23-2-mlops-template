{
 "cells": [
  {
   "cell_type": "markdown",
   "metadata": {},
   "source": [
    "# Revisão dos comandos em Python"
   ]
  },
  {
   "cell_type": "markdown",
   "metadata": {},
   "source": [
    "# Sumário\n",
    "\n",
    "**[1. Análise Exploratória](#Analise_Exploratoria)<br>**\n",
    "&nbsp;&nbsp;&nbsp;[1.1. Lendo um arquivo](#Lendo_Arquivo)<br>\n",
    "&nbsp;&nbsp;&nbsp;[1.2. Apresentando a tabela](#Apresenta_Tabela)<br>\n",
    "&nbsp;&nbsp;&nbsp;[1.3. Checando o tipo de cada coluna](#Tipo_Coluna)<br>\n",
    "&nbsp;&nbsp;&nbsp;[1.4. Visualizando colunas específicas](#Cols_Especificas)<br>\n",
    "&nbsp;&nbsp;&nbsp;[1.5. Transformando coluna em índice](#Col_to_index)<br>\n",
    "&nbsp;&nbsp;&nbsp;[1.6. Filtragem do DataFrame dada uma condição](#Filtro_condicao)<br>\n",
    "&nbsp;&nbsp;&nbsp;[1.7. Ordenando valores](#Ordenar)<br>\n",
    "&nbsp;&nbsp;&nbsp;[1.8. Criando categorias](#Categorizacao)<br>\n",
    "&nbsp;&nbsp;&nbsp;[1.9. Contando valores de uma variável qualitativa](#count)<br>\n",
    "&nbsp;&nbsp;&nbsp;[1.10. Normalizando a contagem](#normalizar)<br>\n",
    "&nbsp;&nbsp;&nbsp;[1.11. Discretizando uma variável quantitativa](#discretizar)<br>\n",
    "&nbsp;&nbsp;&nbsp;[1.12. Cruzando variáveis discretas](#cruzar)<br>\n",
    "&nbsp;&nbsp;&nbsp;[1.13. Plotando o gráfico da crosstab](#plot)<br>\n",
    "&nbsp;&nbsp;&nbsp;[1.14. Normalizando a crosstab](#normalizar_crosstab)<br>\n",
    "&nbsp;&nbsp;&nbsp;[1.15. Descrevendo uma variável quantitativa](#describe)<br>\n",
    "&nbsp;&nbsp;&nbsp;[1.16. Correlação entre duas colunas](#correlacao)<br>\n",
    "&nbsp;&nbsp;&nbsp;[1.17. Juntando 2 DataFrames diferentes](#join)<br>\n",
    "&nbsp;&nbsp;&nbsp;[1.18. Filtrando por quantil](#quantil)<br>\n",
    "&nbsp;&nbsp;&nbsp;[1.19. Boxplot](#boxplot)<br>\n",
    "&nbsp;&nbsp;&nbsp;[1.20. Boxplot com agrupamento](#boxplot_agrupamento)<br>\n",
    "&nbsp;&nbsp;&nbsp;[1.21. Histograma de densidade](#histograma_densidade)<br>\n",
    "&nbsp;&nbsp;&nbsp;[1.22. Analisando duas variáveis](#duas_variaveis)<br>\n",
    "\n",
    "**[2. Modelos Probabilísticos](#Analise_Exploratoria)<br>**\n",
    "&nbsp;&nbsp;&nbsp;[2.1. Exercícios Normal](#exercicios)<br>\n",
    "&nbsp;&nbsp;&nbsp;[2.2. Construindo as curvas e gerando amostras aleatórias](#curvas_amostras)<br>\n",
    "&nbsp;&nbsp;&nbsp;[2.3. Construindo as curvas e gerando amostras aleatórias](#duas_variaveis)<br>"
   ]
  },
  {
   "cell_type": "markdown",
   "metadata": {},
   "source": [
    "**Bibliotecas importantes:**"
   ]
  },
  {
   "cell_type": "code",
   "execution_count": 1,
   "metadata": {},
   "outputs": [],
   "source": [
    "import pandas as pd\n",
    "from scipy import stats\n",
    "import matplotlib.pyplot as plt\n",
    "import numpy as np\n",
    "import itertools\n",
    "import seaborn as sns\n",
    "%matplotlib inline"
   ]
  },
  {
   "cell_type": "markdown",
   "metadata": {},
   "source": [
    "<a id=\"Analise_Exploratoria\"></a>\n",
    "## Análise Exploratória"
   ]
  },
  {
   "cell_type": "markdown",
   "metadata": {},
   "source": [
    "<a id='Lendo_Arquivo'></a>\n",
    "**Lendo um arquivo:**"
   ]
  },
  {
   "cell_type": "code",
   "execution_count": 2,
   "metadata": {},
   "outputs": [],
   "source": [
    "df = pd.read_excel('WorldBank.xlsx')"
   ]
  },
  {
   "cell_type": "markdown",
   "metadata": {},
   "source": [
    "<a id=\"Apresenta_Tabela\"></a>\n",
    "**Apresentando a tabela:**"
   ]
  },
  {
   "cell_type": "code",
   "execution_count": 3,
   "metadata": {},
   "outputs": [
    {
     "data": {
      "text/html": [
       "<div>\n",
       "<style scoped>\n",
       "    .dataframe tbody tr th:only-of-type {\n",
       "        vertical-align: middle;\n",
       "    }\n",
       "\n",
       "    .dataframe tbody tr th {\n",
       "        vertical-align: top;\n",
       "    }\n",
       "\n",
       "    .dataframe thead th {\n",
       "        text-align: right;\n",
       "    }\n",
       "</style>\n",
       "<table border=\"1\" class=\"dataframe\">\n",
       "  <thead>\n",
       "    <tr style=\"text-align: right;\">\n",
       "      <th></th>\n",
       "      <th>Country</th>\n",
       "      <th>Population</th>\n",
       "      <th>GDPcapita</th>\n",
       "      <th>surface</th>\n",
       "      <th>region</th>\n",
       "      <th>landlocked</th>\n",
       "    </tr>\n",
       "  </thead>\n",
       "  <tbody>\n",
       "    <tr>\n",
       "      <th>0</th>\n",
       "      <td>Albania</td>\n",
       "      <td>2901883</td>\n",
       "      <td>1915.424459</td>\n",
       "      <td>28750</td>\n",
       "      <td>europe_east</td>\n",
       "      <td>0</td>\n",
       "    </tr>\n",
       "    <tr>\n",
       "      <th>1</th>\n",
       "      <td>Algeria</td>\n",
       "      <td>36036159</td>\n",
       "      <td>2231.980246</td>\n",
       "      <td>2381740</td>\n",
       "      <td>africa_north</td>\n",
       "      <td>0</td>\n",
       "    </tr>\n",
       "    <tr>\n",
       "      <th>2</th>\n",
       "      <td>Angola</td>\n",
       "      <td>21219954</td>\n",
       "      <td>623.245275</td>\n",
       "      <td>1246700</td>\n",
       "      <td>africa_sub_saharan</td>\n",
       "      <td>0</td>\n",
       "    </tr>\n",
       "    <tr>\n",
       "      <th>3</th>\n",
       "      <td>Antigua and Barbuda</td>\n",
       "      <td>87233</td>\n",
       "      <td>10614.794315</td>\n",
       "      <td>440</td>\n",
       "      <td>america_north</td>\n",
       "      <td>0</td>\n",
       "    </tr>\n",
       "    <tr>\n",
       "      <th>4</th>\n",
       "      <td>Argentina</td>\n",
       "      <td>41222875</td>\n",
       "      <td>10749.319224</td>\n",
       "      <td>2780400</td>\n",
       "      <td>america_south</td>\n",
       "      <td>0</td>\n",
       "    </tr>\n",
       "  </tbody>\n",
       "</table>\n",
       "</div>"
      ],
      "text/plain": [
       "               Country  Population     GDPcapita  surface              region  \\\n",
       "0              Albania     2901883   1915.424459    28750         europe_east   \n",
       "1              Algeria    36036159   2231.980246  2381740        africa_north   \n",
       "2               Angola    21219954    623.245275  1246700  africa_sub_saharan   \n",
       "3  Antigua and Barbuda       87233  10614.794315      440       america_north   \n",
       "4            Argentina    41222875  10749.319224  2780400       america_south   \n",
       "\n",
       "   landlocked  \n",
       "0           0  \n",
       "1           0  \n",
       "2           0  \n",
       "3           0  \n",
       "4           0  "
      ]
     },
     "execution_count": 3,
     "metadata": {},
     "output_type": "execute_result"
    }
   ],
   "source": [
    "df.head(5)\n",
    "# head(n) mostra as n primeiras linhas da tabela\n",
    "# tail(n) mostra as n últimas linhas da tabela"
   ]
  },
  {
   "cell_type": "markdown",
   "metadata": {},
   "source": [
    "<a id=\"Tipo_Coluna\"></a>\n",
    "**Checando o tipo de cada coluna:**"
   ]
  },
  {
   "cell_type": "code",
   "execution_count": 4,
   "metadata": {},
   "outputs": [
    {
     "data": {
      "text/plain": [
       "Country        object\n",
       "Population      int64\n",
       "GDPcapita     float64\n",
       "surface         int64\n",
       "region         object\n",
       "landlocked      int64\n",
       "dtype: object"
      ]
     },
     "execution_count": 4,
     "metadata": {},
     "output_type": "execute_result"
    }
   ],
   "source": [
    "df.dtypes"
   ]
  },
  {
   "cell_type": "markdown",
   "metadata": {},
   "source": [
    "<a id=\"Cols_Especificas\"></a>\n",
    "**Visualizando colunas específicas:**"
   ]
  },
  {
   "cell_type": "code",
   "execution_count": 5,
   "metadata": {},
   "outputs": [
    {
     "data": {
      "text/plain": [
       "163      Vanuatu\n",
       "164    Venezuela\n",
       "165      Vietnam\n",
       "166       Zambia\n",
       "167     Zimbabwe\n",
       "Name: Country, dtype: object"
      ]
     },
     "execution_count": 5,
     "metadata": {},
     "output_type": "execute_result"
    }
   ],
   "source": [
    "df['Country'].tail(5)"
   ]
  },
  {
   "cell_type": "markdown",
   "metadata": {},
   "source": [
    "<a id=\"Col_to_index\"></a>\n",
    "**Transformando coluna em índice:**"
   ]
  },
  {
   "cell_type": "code",
   "execution_count": 6,
   "metadata": {},
   "outputs": [
    {
     "data": {
      "text/html": [
       "<div>\n",
       "<style scoped>\n",
       "    .dataframe tbody tr th:only-of-type {\n",
       "        vertical-align: middle;\n",
       "    }\n",
       "\n",
       "    .dataframe tbody tr th {\n",
       "        vertical-align: top;\n",
       "    }\n",
       "\n",
       "    .dataframe thead th {\n",
       "        text-align: right;\n",
       "    }\n",
       "</style>\n",
       "<table border=\"1\" class=\"dataframe\">\n",
       "  <thead>\n",
       "    <tr style=\"text-align: right;\">\n",
       "      <th></th>\n",
       "      <th>Population</th>\n",
       "      <th>GDPcapita</th>\n",
       "      <th>surface</th>\n",
       "      <th>region</th>\n",
       "      <th>landlocked</th>\n",
       "    </tr>\n",
       "    <tr>\n",
       "      <th>Country</th>\n",
       "      <th></th>\n",
       "      <th></th>\n",
       "      <th></th>\n",
       "      <th></th>\n",
       "      <th></th>\n",
       "    </tr>\n",
       "  </thead>\n",
       "  <tbody>\n",
       "    <tr>\n",
       "      <th>Albania</th>\n",
       "      <td>2901883</td>\n",
       "      <td>1915.424459</td>\n",
       "      <td>28750</td>\n",
       "      <td>europe_east</td>\n",
       "      <td>0</td>\n",
       "    </tr>\n",
       "    <tr>\n",
       "      <th>Algeria</th>\n",
       "      <td>36036159</td>\n",
       "      <td>2231.980246</td>\n",
       "      <td>2381740</td>\n",
       "      <td>africa_north</td>\n",
       "      <td>0</td>\n",
       "    </tr>\n",
       "    <tr>\n",
       "      <th>Angola</th>\n",
       "      <td>21219954</td>\n",
       "      <td>623.245275</td>\n",
       "      <td>1246700</td>\n",
       "      <td>africa_sub_saharan</td>\n",
       "      <td>0</td>\n",
       "    </tr>\n",
       "    <tr>\n",
       "      <th>Antigua and Barbuda</th>\n",
       "      <td>87233</td>\n",
       "      <td>10614.794315</td>\n",
       "      <td>440</td>\n",
       "      <td>america_north</td>\n",
       "      <td>0</td>\n",
       "    </tr>\n",
       "    <tr>\n",
       "      <th>Argentina</th>\n",
       "      <td>41222875</td>\n",
       "      <td>10749.319224</td>\n",
       "      <td>2780400</td>\n",
       "      <td>america_south</td>\n",
       "      <td>0</td>\n",
       "    </tr>\n",
       "  </tbody>\n",
       "</table>\n",
       "</div>"
      ],
      "text/plain": [
       "                     Population     GDPcapita  surface              region  \\\n",
       "Country                                                                      \n",
       "Albania                 2901883   1915.424459    28750         europe_east   \n",
       "Algeria                36036159   2231.980246  2381740        africa_north   \n",
       "Angola                 21219954    623.245275  1246700  africa_sub_saharan   \n",
       "Antigua and Barbuda       87233  10614.794315      440       america_north   \n",
       "Argentina              41222875  10749.319224  2780400       america_south   \n",
       "\n",
       "                     landlocked  \n",
       "Country                          \n",
       "Albania                       0  \n",
       "Algeria                       0  \n",
       "Angola                        0  \n",
       "Antigua and Barbuda           0  \n",
       "Argentina                     0  "
      ]
     },
     "execution_count": 6,
     "metadata": {},
     "output_type": "execute_result"
    }
   ],
   "source": [
    "df = df.set_index('Country')\n",
    "df.head(5)"
   ]
  },
  {
   "cell_type": "markdown",
   "metadata": {},
   "source": [
    "<a id=\"Filtro_condicao\"></a>\n",
    "**Filtragem do DataFrame dada uma condição:**"
   ]
  },
  {
   "cell_type": "code",
   "execution_count": 7,
   "metadata": {},
   "outputs": [
    {
     "data": {
      "text/html": [
       "<div>\n",
       "<style scoped>\n",
       "    .dataframe tbody tr th:only-of-type {\n",
       "        vertical-align: middle;\n",
       "    }\n",
       "\n",
       "    .dataframe tbody tr th {\n",
       "        vertical-align: top;\n",
       "    }\n",
       "\n",
       "    .dataframe thead th {\n",
       "        text-align: right;\n",
       "    }\n",
       "</style>\n",
       "<table border=\"1\" class=\"dataframe\">\n",
       "  <thead>\n",
       "    <tr style=\"text-align: right;\">\n",
       "      <th></th>\n",
       "      <th>Population</th>\n",
       "      <th>GDPcapita</th>\n",
       "      <th>surface</th>\n",
       "      <th>region</th>\n",
       "      <th>landlocked</th>\n",
       "    </tr>\n",
       "    <tr>\n",
       "      <th>Country</th>\n",
       "      <th></th>\n",
       "      <th></th>\n",
       "      <th></th>\n",
       "      <th></th>\n",
       "      <th></th>\n",
       "    </tr>\n",
       "  </thead>\n",
       "  <tbody>\n",
       "    <tr>\n",
       "      <th>Antigua and Barbuda</th>\n",
       "      <td>87233</td>\n",
       "      <td>10614.794315</td>\n",
       "      <td>440</td>\n",
       "      <td>america_north</td>\n",
       "      <td>0</td>\n",
       "    </tr>\n",
       "    <tr>\n",
       "      <th>Argentina</th>\n",
       "      <td>41222875</td>\n",
       "      <td>10749.319224</td>\n",
       "      <td>2780400</td>\n",
       "      <td>america_south</td>\n",
       "      <td>0</td>\n",
       "    </tr>\n",
       "    <tr>\n",
       "      <th>Australia</th>\n",
       "      <td>22162863</td>\n",
       "      <td>25190.839860</td>\n",
       "      <td>7741220</td>\n",
       "      <td>east_asia_pacific</td>\n",
       "      <td>0</td>\n",
       "    </tr>\n",
       "    <tr>\n",
       "      <th>Austria</th>\n",
       "      <td>8391986</td>\n",
       "      <td>26642.993858</td>\n",
       "      <td>83870</td>\n",
       "      <td>europe_west</td>\n",
       "      <td>1</td>\n",
       "    </tr>\n",
       "    <tr>\n",
       "      <th>Bahamas</th>\n",
       "      <td>360830</td>\n",
       "      <td>19395.152312</td>\n",
       "      <td>13880</td>\n",
       "      <td>america_north</td>\n",
       "      <td>0</td>\n",
       "    </tr>\n",
       "  </tbody>\n",
       "</table>\n",
       "</div>"
      ],
      "text/plain": [
       "                     Population     GDPcapita  surface             region  \\\n",
       "Country                                                                     \n",
       "Antigua and Barbuda       87233  10614.794315      440      america_north   \n",
       "Argentina              41222875  10749.319224  2780400      america_south   \n",
       "Australia              22162863  25190.839860  7741220  east_asia_pacific   \n",
       "Austria                 8391986  26642.993858    83870        europe_west   \n",
       "Bahamas                  360830  19395.152312    13880      america_north   \n",
       "\n",
       "                     landlocked  \n",
       "Country                          \n",
       "Antigua and Barbuda           0  \n",
       "Argentina                     0  \n",
       "Australia                     0  \n",
       "Austria                       1  \n",
       "Bahamas                       0  "
      ]
     },
     "execution_count": 7,
     "metadata": {},
     "output_type": "execute_result"
    }
   ],
   "source": [
    "df[df['GDPcapita'] > 5000].head(5)"
   ]
  },
  {
   "cell_type": "markdown",
   "metadata": {},
   "source": [
    "<a id=\"Ordenar\"></a>\n",
    "**Ordenando valores:**"
   ]
  },
  {
   "cell_type": "code",
   "execution_count": 8,
   "metadata": {},
   "outputs": [
    {
     "data": {
      "text/html": [
       "<div>\n",
       "<style scoped>\n",
       "    .dataframe tbody tr th:only-of-type {\n",
       "        vertical-align: middle;\n",
       "    }\n",
       "\n",
       "    .dataframe tbody tr th {\n",
       "        vertical-align: top;\n",
       "    }\n",
       "\n",
       "    .dataframe thead th {\n",
       "        text-align: right;\n",
       "    }\n",
       "</style>\n",
       "<table border=\"1\" class=\"dataframe\">\n",
       "  <thead>\n",
       "    <tr style=\"text-align: right;\">\n",
       "      <th></th>\n",
       "      <th>Population</th>\n",
       "      <th>GDPcapita</th>\n",
       "      <th>surface</th>\n",
       "      <th>region</th>\n",
       "      <th>landlocked</th>\n",
       "    </tr>\n",
       "    <tr>\n",
       "      <th>Country</th>\n",
       "      <th></th>\n",
       "      <th></th>\n",
       "      <th></th>\n",
       "      <th></th>\n",
       "      <th></th>\n",
       "    </tr>\n",
       "  </thead>\n",
       "  <tbody>\n",
       "    <tr>\n",
       "      <th>China</th>\n",
       "      <td>1340968737</td>\n",
       "      <td>2426.332466</td>\n",
       "      <td>9600000</td>\n",
       "      <td>east_asia_pacific</td>\n",
       "      <td>0</td>\n",
       "    </tr>\n",
       "    <tr>\n",
       "      <th>India</th>\n",
       "      <td>1230984504</td>\n",
       "      <td>794.801256</td>\n",
       "      <td>3287260</td>\n",
       "      <td>asia_west</td>\n",
       "      <td>0</td>\n",
       "    </tr>\n",
       "    <tr>\n",
       "      <th>United States</th>\n",
       "      <td>309876170</td>\n",
       "      <td>37329.615914</td>\n",
       "      <td>9831510</td>\n",
       "      <td>america_north</td>\n",
       "      <td>0</td>\n",
       "    </tr>\n",
       "    <tr>\n",
       "      <th>Indonesia</th>\n",
       "      <td>241613126</td>\n",
       "      <td>1145.385435</td>\n",
       "      <td>1904570</td>\n",
       "      <td>east_asia_pacific</td>\n",
       "      <td>0</td>\n",
       "    </tr>\n",
       "    <tr>\n",
       "      <th>Brazil</th>\n",
       "      <td>198614208</td>\n",
       "      <td>4716.614125</td>\n",
       "      <td>8514880</td>\n",
       "      <td>america_south</td>\n",
       "      <td>0</td>\n",
       "    </tr>\n",
       "  </tbody>\n",
       "</table>\n",
       "</div>"
      ],
      "text/plain": [
       "               Population     GDPcapita  surface             region  \\\n",
       "Country                                                               \n",
       "China          1340968737   2426.332466  9600000  east_asia_pacific   \n",
       "India          1230984504    794.801256  3287260          asia_west   \n",
       "United States   309876170  37329.615914  9831510      america_north   \n",
       "Indonesia       241613126   1145.385435  1904570  east_asia_pacific   \n",
       "Brazil          198614208   4716.614125  8514880      america_south   \n",
       "\n",
       "               landlocked  \n",
       "Country                    \n",
       "China                   0  \n",
       "India                   0  \n",
       "United States           0  \n",
       "Indonesia               0  \n",
       "Brazil                  0  "
      ]
     },
     "execution_count": 8,
     "metadata": {},
     "output_type": "execute_result"
    }
   ],
   "source": [
    "df.sort_values(by = 'Population', ascending = False).head(5)\n",
    "# ascending=True é o padrão e ordenaria do menor para o maior"
   ]
  },
  {
   "cell_type": "markdown",
   "metadata": {},
   "source": [
    "<a id=\"Categorizacao\"></a>\n",
    "**Criando categorias:**"
   ]
  },
  {
   "cell_type": "code",
   "execution_count": 9,
   "metadata": {},
   "outputs": [
    {
     "data": {
      "text/html": [
       "<div>\n",
       "<style scoped>\n",
       "    .dataframe tbody tr th:only-of-type {\n",
       "        vertical-align: middle;\n",
       "    }\n",
       "\n",
       "    .dataframe tbody tr th {\n",
       "        vertical-align: top;\n",
       "    }\n",
       "\n",
       "    .dataframe thead th {\n",
       "        text-align: right;\n",
       "    }\n",
       "</style>\n",
       "<table border=\"1\" class=\"dataframe\">\n",
       "  <thead>\n",
       "    <tr style=\"text-align: right;\">\n",
       "      <th></th>\n",
       "      <th>Population</th>\n",
       "      <th>GDPcapita</th>\n",
       "      <th>surface</th>\n",
       "      <th>region</th>\n",
       "      <th>landlocked</th>\n",
       "    </tr>\n",
       "    <tr>\n",
       "      <th>Country</th>\n",
       "      <th></th>\n",
       "      <th></th>\n",
       "      <th></th>\n",
       "      <th></th>\n",
       "      <th></th>\n",
       "    </tr>\n",
       "  </thead>\n",
       "  <tbody>\n",
       "    <tr>\n",
       "      <th>Albania</th>\n",
       "      <td>2901883</td>\n",
       "      <td>1915.424459</td>\n",
       "      <td>28750</td>\n",
       "      <td>europe_east</td>\n",
       "      <td>No</td>\n",
       "    </tr>\n",
       "    <tr>\n",
       "      <th>Algeria</th>\n",
       "      <td>36036159</td>\n",
       "      <td>2231.980246</td>\n",
       "      <td>2381740</td>\n",
       "      <td>africa_north</td>\n",
       "      <td>No</td>\n",
       "    </tr>\n",
       "    <tr>\n",
       "      <th>Angola</th>\n",
       "      <td>21219954</td>\n",
       "      <td>623.245275</td>\n",
       "      <td>1246700</td>\n",
       "      <td>africa_sub_saharan</td>\n",
       "      <td>No</td>\n",
       "    </tr>\n",
       "    <tr>\n",
       "      <th>Antigua and Barbuda</th>\n",
       "      <td>87233</td>\n",
       "      <td>10614.794315</td>\n",
       "      <td>440</td>\n",
       "      <td>america_north</td>\n",
       "      <td>No</td>\n",
       "    </tr>\n",
       "    <tr>\n",
       "      <th>Argentina</th>\n",
       "      <td>41222875</td>\n",
       "      <td>10749.319224</td>\n",
       "      <td>2780400</td>\n",
       "      <td>america_south</td>\n",
       "      <td>No</td>\n",
       "    </tr>\n",
       "  </tbody>\n",
       "</table>\n",
       "</div>"
      ],
      "text/plain": [
       "                     Population     GDPcapita  surface              region  \\\n",
       "Country                                                                      \n",
       "Albania                 2901883   1915.424459    28750         europe_east   \n",
       "Algeria                36036159   2231.980246  2381740        africa_north   \n",
       "Angola                 21219954    623.245275  1246700  africa_sub_saharan   \n",
       "Antigua and Barbuda       87233  10614.794315      440       america_north   \n",
       "Argentina              41222875  10749.319224  2780400       america_south   \n",
       "\n",
       "                    landlocked  \n",
       "Country                         \n",
       "Albania                     No  \n",
       "Algeria                     No  \n",
       "Angola                      No  \n",
       "Antigua and Barbuda         No  \n",
       "Argentina                   No  "
      ]
     },
     "execution_count": 9,
     "metadata": {},
     "output_type": "execute_result"
    }
   ],
   "source": [
    "df['landlocked'] = df['landlocked'].astype('category')\n",
    "df['landlocked'].cat.categories = ('No', 'Yes')\n",
    "df.head(5)"
   ]
  },
  {
   "cell_type": "markdown",
   "metadata": {},
   "source": [
    "<a id=\"count\"></a>\n",
    "**Contando valores de uma variável qualitativa:**"
   ]
  },
  {
   "cell_type": "code",
   "execution_count": 10,
   "metadata": {},
   "outputs": [
    {
     "data": {
      "text/plain": [
       "No     136\n",
       "Yes     32\n",
       "Name: landlocked, dtype: int64"
      ]
     },
     "execution_count": 10,
     "metadata": {},
     "output_type": "execute_result"
    }
   ],
   "source": [
    "df['landlocked'].value_counts()"
   ]
  },
  {
   "cell_type": "markdown",
   "metadata": {},
   "source": [
    "<a id=\"normalizar\"></a>\n",
    "**Normalizando a contagem:**"
   ]
  },
  {
   "cell_type": "code",
   "execution_count": 11,
   "metadata": {},
   "outputs": [
    {
     "data": {
      "text/plain": [
       "No     80.952381\n",
       "Yes    19.047619\n",
       "Name: landlocked, dtype: float64"
      ]
     },
     "execution_count": 11,
     "metadata": {},
     "output_type": "execute_result"
    }
   ],
   "source": [
    "df['landlocked'].value_counts(True) * 100\n",
    "# Multipliquei por 100 para deixar em porcentagem"
   ]
  },
  {
   "cell_type": "markdown",
   "metadata": {},
   "source": [
    "<a id=\"discretizar\"></a>\n",
    "**Discretizando uma variável quantitativa:**"
   ]
  },
  {
   "cell_type": "code",
   "execution_count": 12,
   "metadata": {},
   "outputs": [
    {
     "data": {
      "text/html": [
       "<div>\n",
       "<style scoped>\n",
       "    .dataframe tbody tr th:only-of-type {\n",
       "        vertical-align: middle;\n",
       "    }\n",
       "\n",
       "    .dataframe tbody tr th {\n",
       "        vertical-align: top;\n",
       "    }\n",
       "\n",
       "    .dataframe thead th {\n",
       "        text-align: right;\n",
       "    }\n",
       "</style>\n",
       "<table border=\"1\" class=\"dataframe\">\n",
       "  <thead>\n",
       "    <tr style=\"text-align: right;\">\n",
       "      <th></th>\n",
       "      <th>Population</th>\n",
       "      <th>GDPcapita</th>\n",
       "      <th>surface</th>\n",
       "      <th>region</th>\n",
       "      <th>landlocked</th>\n",
       "      <th>GDPcapita_disc</th>\n",
       "    </tr>\n",
       "    <tr>\n",
       "      <th>Country</th>\n",
       "      <th></th>\n",
       "      <th></th>\n",
       "      <th></th>\n",
       "      <th></th>\n",
       "      <th></th>\n",
       "      <th></th>\n",
       "    </tr>\n",
       "  </thead>\n",
       "  <tbody>\n",
       "    <tr>\n",
       "      <th>Albania</th>\n",
       "      <td>2901883</td>\n",
       "      <td>1915.424459</td>\n",
       "      <td>28750</td>\n",
       "      <td>europe_east</td>\n",
       "      <td>No</td>\n",
       "      <td>Very Low</td>\n",
       "    </tr>\n",
       "    <tr>\n",
       "      <th>Algeria</th>\n",
       "      <td>36036159</td>\n",
       "      <td>2231.980246</td>\n",
       "      <td>2381740</td>\n",
       "      <td>africa_north</td>\n",
       "      <td>No</td>\n",
       "      <td>Very Low</td>\n",
       "    </tr>\n",
       "    <tr>\n",
       "      <th>Angola</th>\n",
       "      <td>21219954</td>\n",
       "      <td>623.245275</td>\n",
       "      <td>1246700</td>\n",
       "      <td>africa_sub_saharan</td>\n",
       "      <td>No</td>\n",
       "      <td>Very Low</td>\n",
       "    </tr>\n",
       "    <tr>\n",
       "      <th>Antigua and Barbuda</th>\n",
       "      <td>87233</td>\n",
       "      <td>10614.794315</td>\n",
       "      <td>440</td>\n",
       "      <td>america_north</td>\n",
       "      <td>No</td>\n",
       "      <td>Low</td>\n",
       "    </tr>\n",
       "    <tr>\n",
       "      <th>Argentina</th>\n",
       "      <td>41222875</td>\n",
       "      <td>10749.319224</td>\n",
       "      <td>2780400</td>\n",
       "      <td>america_south</td>\n",
       "      <td>No</td>\n",
       "      <td>Low</td>\n",
       "    </tr>\n",
       "  </tbody>\n",
       "</table>\n",
       "</div>"
      ],
      "text/plain": [
       "                     Population     GDPcapita  surface              region  \\\n",
       "Country                                                                      \n",
       "Albania                 2901883   1915.424459    28750         europe_east   \n",
       "Algeria                36036159   2231.980246  2381740        africa_north   \n",
       "Angola                 21219954    623.245275  1246700  africa_sub_saharan   \n",
       "Antigua and Barbuda       87233  10614.794315      440       america_north   \n",
       "Argentina              41222875  10749.319224  2780400       america_south   \n",
       "\n",
       "                    landlocked GDPcapita_disc  \n",
       "Country                                        \n",
       "Albania                     No       Very Low  \n",
       "Algeria                     No       Very Low  \n",
       "Angola                      No       Very Low  \n",
       "Antigua and Barbuda         No            Low  \n",
       "Argentina                   No            Low  "
      ]
     },
     "execution_count": 12,
     "metadata": {},
     "output_type": "execute_result"
    }
   ],
   "source": [
    "df['GDPcapita_disc'] = pd.cut(df['GDPcapita'], bins = 5)\n",
    "# pd.cut discretiza uma coluna do DataFrame em um número n de faixas. O número de faixas desejadas dever ser passado em bins\n",
    "df['GDPcapita_disc'] = df['GDPcapita_disc'].astype('category')\n",
    "df['GDPcapita_disc'].cat.categories = ('Very Low', 'Low', 'Regular', 'High', 'Very High')\n",
    "df.head(5)"
   ]
  },
  {
   "cell_type": "markdown",
   "metadata": {},
   "source": [
    "<a id=\"cruzar\"></a>\n",
    "**Cruzando variáveis discretas:**"
   ]
  },
  {
   "cell_type": "code",
   "execution_count": 13,
   "metadata": {},
   "outputs": [
    {
     "data": {
      "text/html": [
       "<div>\n",
       "<style scoped>\n",
       "    .dataframe tbody tr th:only-of-type {\n",
       "        vertical-align: middle;\n",
       "    }\n",
       "\n",
       "    .dataframe tbody tr th {\n",
       "        vertical-align: top;\n",
       "    }\n",
       "\n",
       "    .dataframe thead th {\n",
       "        text-align: right;\n",
       "    }\n",
       "</style>\n",
       "<table border=\"1\" class=\"dataframe\">\n",
       "  <thead>\n",
       "    <tr style=\"text-align: right;\">\n",
       "      <th>GDPcapita_disc</th>\n",
       "      <th>Very Low</th>\n",
       "      <th>Low</th>\n",
       "      <th>Regular</th>\n",
       "      <th>High</th>\n",
       "      <th>Very High</th>\n",
       "    </tr>\n",
       "    <tr>\n",
       "      <th>landlocked</th>\n",
       "      <th></th>\n",
       "      <th></th>\n",
       "      <th></th>\n",
       "      <th></th>\n",
       "      <th></th>\n",
       "    </tr>\n",
       "  </thead>\n",
       "  <tbody>\n",
       "    <tr>\n",
       "      <th>No</th>\n",
       "      <td>101</td>\n",
       "      <td>14</td>\n",
       "      <td>13</td>\n",
       "      <td>8</td>\n",
       "      <td>0</td>\n",
       "    </tr>\n",
       "    <tr>\n",
       "      <th>Yes</th>\n",
       "      <td>29</td>\n",
       "      <td>0</td>\n",
       "      <td>1</td>\n",
       "      <td>1</td>\n",
       "      <td>1</td>\n",
       "    </tr>\n",
       "  </tbody>\n",
       "</table>\n",
       "</div>"
      ],
      "text/plain": [
       "GDPcapita_disc  Very Low  Low  Regular  High  Very High\n",
       "landlocked                                             \n",
       "No                   101   14       13     8          0\n",
       "Yes                   29    0        1     1          1"
      ]
     },
     "execution_count": 13,
     "metadata": {},
     "output_type": "execute_result"
    }
   ],
   "source": [
    "ct1 = pd.crosstab(df['landlocked'], df['GDPcapita_disc'])\n",
    "ct1"
   ]
  },
  {
   "cell_type": "markdown",
   "metadata": {},
   "source": [
    "<a id=\"plot\"></a>\n",
    "**Plotando o gráfico da crosstab:**"
   ]
  },
  {
   "cell_type": "code",
   "execution_count": 14,
   "metadata": {},
   "outputs": [
    {
     "data": {
      "image/png": "[encoded data removed]",
      "text/plain": [
       "<Figure size 432x288 with 1 Axes>"
      ]
     },
     "metadata": {
      "needs_background": "light"
     },
     "output_type": "display_data"
    }
   ],
   "source": [
    "ct1.plot(kind='bar')\n",
    "plt.ylabel('Frequência Absoluta')\n",
    "plt.xlabel('Acesso ao Mar')\n",
    "plt.show()"
   ]
  },
  {
   "cell_type": "markdown",
   "metadata": {},
   "source": [
    "<a id=\"normalizar_crosstab\"></a>\n",
    "**Normalizando a crosstab:**"
   ]
  },
  {
   "cell_type": "code",
   "execution_count": 15,
   "metadata": {},
   "outputs": [
    {
     "data": {
      "text/html": [
       "<div>\n",
       "<style scoped>\n",
       "    .dataframe tbody tr th:only-of-type {\n",
       "        vertical-align: middle;\n",
       "    }\n",
       "\n",
       "    .dataframe tbody tr th {\n",
       "        vertical-align: top;\n",
       "    }\n",
       "\n",
       "    .dataframe thead th {\n",
       "        text-align: right;\n",
       "    }\n",
       "</style>\n",
       "<table border=\"1\" class=\"dataframe\">\n",
       "  <thead>\n",
       "    <tr style=\"text-align: right;\">\n",
       "      <th>GDPcapita_disc</th>\n",
       "      <th>Very Low</th>\n",
       "      <th>Low</th>\n",
       "      <th>Regular</th>\n",
       "      <th>High</th>\n",
       "      <th>Very High</th>\n",
       "    </tr>\n",
       "    <tr>\n",
       "      <th>landlocked</th>\n",
       "      <th></th>\n",
       "      <th></th>\n",
       "      <th></th>\n",
       "      <th></th>\n",
       "      <th></th>\n",
       "    </tr>\n",
       "  </thead>\n",
       "  <tbody>\n",
       "    <tr>\n",
       "      <th>No</th>\n",
       "      <td>77.69</td>\n",
       "      <td>100.0</td>\n",
       "      <td>92.86</td>\n",
       "      <td>88.89</td>\n",
       "      <td>0.0</td>\n",
       "    </tr>\n",
       "    <tr>\n",
       "      <th>Yes</th>\n",
       "      <td>22.31</td>\n",
       "      <td>0.0</td>\n",
       "      <td>7.14</td>\n",
       "      <td>11.11</td>\n",
       "      <td>100.0</td>\n",
       "    </tr>\n",
       "  </tbody>\n",
       "</table>\n",
       "</div>"
      ],
      "text/plain": [
       "GDPcapita_disc  Very Low    Low  Regular   High  Very High\n",
       "landlocked                                                \n",
       "No                 77.69  100.0    92.86  88.89        0.0\n",
       "Yes                22.31    0.0     7.14  11.11      100.0"
      ]
     },
     "execution_count": 15,
     "metadata": {},
     "output_type": "execute_result"
    }
   ],
   "source": [
    "ct2 = pd.crosstab(df['landlocked'], df['GDPcapita_disc'], normalize = 'columns')\n",
    "# normalize pode receber 'index' para normalizar linhas e True para normalizar tudo\n",
    "ct2 = ct2 * 100\n",
    "ct2.round(2)"
   ]
  },
  {
   "cell_type": "markdown",
   "metadata": {},
   "source": [
    "<a id=\"describe\"></a>\n",
    "**Descrevendo uma variável quantitativa:**"
   ]
  },
  {
   "cell_type": "code",
   "execution_count": 17,
   "metadata": {},
   "outputs": [
    {
     "data": {
      "text/plain": [
       "count      168.00\n",
       "mean      7354.00\n",
       "std      10615.78\n",
       "min        105.53\n",
       "25%        701.35\n",
       "50%       2385.57\n",
       "75%       8546.12\n",
       "max      52222.58\n",
       "Name: GDPcapita, dtype: float64"
      ]
     },
     "execution_count": 17,
     "metadata": {},
     "output_type": "execute_result"
    }
   ],
   "source": [
    "df['GDPcapita'].describe().round(2)"
   ]
  },
  {
   "cell_type": "markdown",
   "metadata": {},
   "source": [
    "<a id=\"correlacao\"></a>\n",
    "**Correlação entre duas colunas:**"
   ]
  },
  {
   "cell_type": "code",
   "execution_count": 18,
   "metadata": {},
   "outputs": [
    {
     "data": {
      "text/plain": [
       "0.4509581175132893"
      ]
     },
     "execution_count": 18,
     "metadata": {},
     "output_type": "execute_result"
    }
   ],
   "source": [
    "df['surface'].corr(df['Population'])"
   ]
  },
  {
   "cell_type": "markdown",
   "metadata": {},
   "source": [
    "<a id=\"join\"></a>\n",
    "**Juntando 2 DataFrames diferentes:**"
   ]
  },
  {
   "cell_type": "code",
   "execution_count": 19,
   "metadata": {},
   "outputs": [
    {
     "data": {
      "text/html": [
       "<div>\n",
       "<style scoped>\n",
       "    .dataframe tbody tr th:only-of-type {\n",
       "        vertical-align: middle;\n",
       "    }\n",
       "\n",
       "    .dataframe tbody tr th {\n",
       "        vertical-align: top;\n",
       "    }\n",
       "\n",
       "    .dataframe thead th {\n",
       "        text-align: right;\n",
       "    }\n",
       "</style>\n",
       "<table border=\"1\" class=\"dataframe\">\n",
       "  <thead>\n",
       "    <tr style=\"text-align: right;\">\n",
       "      <th></th>\n",
       "      <th>2008_co2</th>\n",
       "      <th>2009_co2</th>\n",
       "      <th>2010_co2</th>\n",
       "      <th>2011_co2</th>\n",
       "      <th>2012_co2</th>\n",
       "      <th>2008_income</th>\n",
       "      <th>2009_income</th>\n",
       "      <th>2010_income</th>\n",
       "      <th>2011_income</th>\n",
       "      <th>2012_income</th>\n",
       "    </tr>\n",
       "  </thead>\n",
       "  <tbody>\n",
       "    <tr>\n",
       "      <th>Abkhazia</th>\n",
       "      <td>NaN</td>\n",
       "      <td>NaN</td>\n",
       "      <td>NaN</td>\n",
       "      <td>NaN</td>\n",
       "      <td>NaN</td>\n",
       "      <td>NaN</td>\n",
       "      <td>NaN</td>\n",
       "      <td>NaN</td>\n",
       "      <td>NaN</td>\n",
       "      <td>NaN</td>\n",
       "    </tr>\n",
       "    <tr>\n",
       "      <th>Afghanistan</th>\n",
       "      <td>0.131602</td>\n",
       "      <td>0.213325</td>\n",
       "      <td>0.262174</td>\n",
       "      <td>NaN</td>\n",
       "      <td>NaN</td>\n",
       "      <td>1311.0</td>\n",
       "      <td>1548.0</td>\n",
       "      <td>1637.0</td>\n",
       "      <td>1695.0</td>\n",
       "      <td>1893.0</td>\n",
       "    </tr>\n",
       "    <tr>\n",
       "      <th>Akrotiri and Dhekelia</th>\n",
       "      <td>NaN</td>\n",
       "      <td>NaN</td>\n",
       "      <td>NaN</td>\n",
       "      <td>NaN</td>\n",
       "      <td>NaN</td>\n",
       "      <td>NaN</td>\n",
       "      <td>NaN</td>\n",
       "      <td>NaN</td>\n",
       "      <td>NaN</td>\n",
       "      <td>NaN</td>\n",
       "    </tr>\n",
       "    <tr>\n",
       "      <th>Albania</th>\n",
       "      <td>1.297753</td>\n",
       "      <td>1.215055</td>\n",
       "      <td>1.336544</td>\n",
       "      <td>NaN</td>\n",
       "      <td>NaN</td>\n",
       "      <td>8644.0</td>\n",
       "      <td>8994.0</td>\n",
       "      <td>9374.0</td>\n",
       "      <td>9640.0</td>\n",
       "      <td>9811.0</td>\n",
       "    </tr>\n",
       "    <tr>\n",
       "      <th>Algeria</th>\n",
       "      <td>3.328945</td>\n",
       "      <td>3.564361</td>\n",
       "      <td>3.480977</td>\n",
       "      <td>3.562504</td>\n",
       "      <td>3.785654</td>\n",
       "      <td>12314.0</td>\n",
       "      <td>12285.0</td>\n",
       "      <td>12494.0</td>\n",
       "      <td>12606.0</td>\n",
       "      <td>12779.0</td>\n",
       "    </tr>\n",
       "  </tbody>\n",
       "</table>\n",
       "</div>"
      ],
      "text/plain": [
       "                       2008_co2  2009_co2  2010_co2  2011_co2  2012_co2  \\\n",
       "Abkhazia                    NaN       NaN       NaN       NaN       NaN   \n",
       "Afghanistan            0.131602  0.213325  0.262174       NaN       NaN   \n",
       "Akrotiri and Dhekelia       NaN       NaN       NaN       NaN       NaN   \n",
       "Albania                1.297753  1.215055  1.336544       NaN       NaN   \n",
       "Algeria                3.328945  3.564361  3.480977  3.562504  3.785654   \n",
       "\n",
       "                       2008_income  2009_income  2010_income  2011_income  \\\n",
       "Abkhazia                       NaN          NaN          NaN          NaN   \n",
       "Afghanistan                 1311.0       1548.0       1637.0       1695.0   \n",
       "Akrotiri and Dhekelia          NaN          NaN          NaN          NaN   \n",
       "Albania                     8644.0       8994.0       9374.0       9640.0   \n",
       "Algeria                    12314.0      12285.0      12494.0      12606.0   \n",
       "\n",
       "                       2012_income  \n",
       "Abkhazia                       NaN  \n",
       "Afghanistan                 1893.0  \n",
       "Akrotiri and Dhekelia          NaN  \n",
       "Albania                     9811.0  \n",
       "Algeria                    12779.0  "
      ]
     },
     "execution_count": 19,
     "metadata": {},
     "output_type": "execute_result"
    }
   ],
   "source": [
    "co2 = pd.read_excel('indicator CDIAC carbon_dioxide_emissions_per_capita.xlsx')\n",
    "income = pd.read_excel('indicator gapminder gdp_per_capita_ppp.xlsx')\n",
    "# Lendo os dois arquivos.\n",
    "co2 = co2.set_index('CO2 per capita')\n",
    "income = income.set_index('GDP per capita')\n",
    "# Para fazer o join é ideal que os índices sejam os mesmos em ambos os DataFrames.\n",
    "co2 = co2.loc[:, co2.columns[-5:]]\n",
    "income = income.loc[:, income.columns[-8:-3]]\n",
    "# Deixando apenas os anos de 2008 até 2012 de cada DataFrame para facilitar visualização.\n",
    "\n",
    "df2 = co2.join(income, how = 'inner', lsuffix = '_co2', rsuffix = '_income')\n",
    "# how = 'inner' significa que o novo índice será a intersecção dos índices dos DataFrames usados para formar o df2.\n",
    "df2.head(5)"
   ]
  },
  {
   "cell_type": "markdown",
   "metadata": {},
   "source": [
    "<a id=\"quantil\"></a>\n",
    "**Filtrando por quantil:**"
   ]
  },
  {
   "cell_type": "code",
   "execution_count": 20,
   "metadata": {},
   "outputs": [
    {
     "data": {
      "text/html": [
       "<div>\n",
       "<style scoped>\n",
       "    .dataframe tbody tr th:only-of-type {\n",
       "        vertical-align: middle;\n",
       "    }\n",
       "\n",
       "    .dataframe tbody tr th {\n",
       "        vertical-align: top;\n",
       "    }\n",
       "\n",
       "    .dataframe thead th {\n",
       "        text-align: right;\n",
       "    }\n",
       "</style>\n",
       "<table border=\"1\" class=\"dataframe\">\n",
       "  <thead>\n",
       "    <tr style=\"text-align: right;\">\n",
       "      <th></th>\n",
       "      <th>Population</th>\n",
       "      <th>GDPcapita</th>\n",
       "      <th>surface</th>\n",
       "      <th>region</th>\n",
       "      <th>landlocked</th>\n",
       "      <th>GDPcapita_disc</th>\n",
       "    </tr>\n",
       "    <tr>\n",
       "      <th>Country</th>\n",
       "      <th></th>\n",
       "      <th></th>\n",
       "      <th></th>\n",
       "      <th></th>\n",
       "      <th></th>\n",
       "      <th></th>\n",
       "    </tr>\n",
       "  </thead>\n",
       "  <tbody>\n",
       "    <tr>\n",
       "      <th>China</th>\n",
       "      <td>1340968737</td>\n",
       "      <td>2426.332466</td>\n",
       "      <td>9600000</td>\n",
       "      <td>east_asia_pacific</td>\n",
       "      <td>No</td>\n",
       "      <td>Very Low</td>\n",
       "    </tr>\n",
       "    <tr>\n",
       "      <th>India</th>\n",
       "      <td>1230984504</td>\n",
       "      <td>794.801256</td>\n",
       "      <td>3287260</td>\n",
       "      <td>asia_west</td>\n",
       "      <td>No</td>\n",
       "      <td>Very Low</td>\n",
       "    </tr>\n",
       "    <tr>\n",
       "      <th>United States</th>\n",
       "      <td>309876170</td>\n",
       "      <td>37329.615914</td>\n",
       "      <td>9831510</td>\n",
       "      <td>america_north</td>\n",
       "      <td>No</td>\n",
       "      <td>High</td>\n",
       "    </tr>\n",
       "    <tr>\n",
       "      <th>Indonesia</th>\n",
       "      <td>241613126</td>\n",
       "      <td>1145.385435</td>\n",
       "      <td>1904570</td>\n",
       "      <td>east_asia_pacific</td>\n",
       "      <td>No</td>\n",
       "      <td>Very Low</td>\n",
       "    </tr>\n",
       "    <tr>\n",
       "      <th>Brazil</th>\n",
       "      <td>198614208</td>\n",
       "      <td>4716.614125</td>\n",
       "      <td>8514880</td>\n",
       "      <td>america_south</td>\n",
       "      <td>No</td>\n",
       "      <td>Very Low</td>\n",
       "    </tr>\n",
       "    <tr>\n",
       "      <th>Pakistan</th>\n",
       "      <td>170043918</td>\n",
       "      <td>664.711270</td>\n",
       "      <td>796100</td>\n",
       "      <td>asia_west</td>\n",
       "      <td>No</td>\n",
       "      <td>Very Low</td>\n",
       "    </tr>\n",
       "    <tr>\n",
       "      <th>Nigeria</th>\n",
       "      <td>159424742</td>\n",
       "      <td>540.685211</td>\n",
       "      <td>923770</td>\n",
       "      <td>africa_sub_saharan</td>\n",
       "      <td>No</td>\n",
       "      <td>Very Low</td>\n",
       "    </tr>\n",
       "    <tr>\n",
       "      <th>Bangladesh</th>\n",
       "      <td>151616777</td>\n",
       "      <td>558.062385</td>\n",
       "      <td>144000</td>\n",
       "      <td>asia_west</td>\n",
       "      <td>No</td>\n",
       "      <td>Very Low</td>\n",
       "    </tr>\n",
       "    <tr>\n",
       "      <th>Russia</th>\n",
       "      <td>143158099</td>\n",
       "      <td>2928.005033</td>\n",
       "      <td>17098240</td>\n",
       "      <td>europe_east</td>\n",
       "      <td>No</td>\n",
       "      <td>Very Low</td>\n",
       "    </tr>\n",
       "  </tbody>\n",
       "</table>\n",
       "</div>"
      ],
      "text/plain": [
       "               Population     GDPcapita   surface              region  \\\n",
       "Country                                                                 \n",
       "China          1340968737   2426.332466   9600000   east_asia_pacific   \n",
       "India          1230984504    794.801256   3287260           asia_west   \n",
       "United States   309876170  37329.615914   9831510       america_north   \n",
       "Indonesia       241613126   1145.385435   1904570   east_asia_pacific   \n",
       "Brazil          198614208   4716.614125   8514880       america_south   \n",
       "Pakistan        170043918    664.711270    796100           asia_west   \n",
       "Nigeria         159424742    540.685211    923770  africa_sub_saharan   \n",
       "Bangladesh      151616777    558.062385    144000           asia_west   \n",
       "Russia          143158099   2928.005033  17098240         europe_east   \n",
       "\n",
       "              landlocked GDPcapita_disc  \n",
       "Country                                  \n",
       "China                 No       Very Low  \n",
       "India                 No       Very Low  \n",
       "United States         No           High  \n",
       "Indonesia             No       Very Low  \n",
       "Brazil                No       Very Low  \n",
       "Pakistan              No       Very Low  \n",
       "Nigeria               No       Very Low  \n",
       "Bangladesh            No       Very Low  \n",
       "Russia                No       Very Low  "
      ]
     },
     "execution_count": 20,
     "metadata": {},
     "output_type": "execute_result"
    }
   ],
   "source": [
    "df[df['Population'] >= df['Population'].quantile(0.95)].sort_values(by = 'Population', ascending = False)"
   ]
  },
  {
   "cell_type": "markdown",
   "metadata": {},
   "source": [
    "<a id=\"boxplot\"></a>\n",
    "**Boxplot:**"
   ]
  },
  {
   "cell_type": "code",
   "execution_count": 21,
   "metadata": {},
   "outputs": [
    {
     "name": "stdout",
     "output_type": "stream",
     "text": [
      "LS = 20313.27\n",
      "Q3 = 8546.12\n",
      "Mediana = 2385.57\n",
      "Q1 = 701.35\n",
      "LI = -11065.80\n",
      "Como não há outliers para baixo LI = 105.53\n"
     ]
    },
    {
     "data": {
      "image/png": "[encoded data removed]",
      "text/plain": [
       "<Figure size 432x288 with 1 Axes>"
      ]
     },
     "metadata": {
      "needs_background": "light"
     },
     "output_type": "display_data"
    }
   ],
   "source": [
    "df['GDPcapita'].plot.box()\n",
    "plt.grid(True);\n",
    "# Limite Inferior = Primeiro Quartil – 1,5 * (Terceiro Quartil – Primeiro Quartil)\n",
    "# Limite Superior = Terceiro Quartil + 1,5 * (Terceiro Quartil – Primeiro Quartil)\n",
    "Q1 = df.GDPcapita.describe()[4]\n",
    "Q3 = df.GDPcapita.describe()[6]\n",
    "print('LS = {0:.2f}'.format(Q3 + 1.5 * (Q3 - Q1)))\n",
    "print('Q3 = {:.2f}'.format(Q3))\n",
    "print('Mediana = {:.2f}'.format(df.GDPcapita.describe()[5]))\n",
    "print('Q1 = {:.2f}'.format(Q1))\n",
    "print('LI = {0:.2f}'.format(Q1 - 1.5 * (Q3 - Q1)))\n",
    "# Como não há nenhum valor inferior ao Limite Inferior a cauda vai até o menor valor.\n",
    "print('Como não há outliers para baixo LI = {:.2f}'.format(df.GDPcapita.min()))"
   ]
  },
  {
   "cell_type": "markdown",
   "metadata": {},
   "source": [
    "<a id=\"boxplot_agrupamento\"></a>\n",
    "**Boxplot com agrupamento:**"
   ]
  },
  {
   "cell_type": "code",
   "execution_count": 22,
   "metadata": {},
   "outputs": [
    {
     "data": {
      "image/png": "[encoded data removed]",
      "text/plain": [
       "<Figure size 432x288 with 1 Axes>"
      ]
     },
     "metadata": {
      "needs_background": "light"
     },
     "output_type": "display_data"
    }
   ],
   "source": [
    "df.loc[:, ['GDPcapita', 'landlocked']].boxplot(by = 'landlocked');"
   ]
  },
  {
   "cell_type": "markdown",
   "metadata": {},
   "source": [
    "<a id=\"histograma_densidade\"></a>\n",
    "**Histograma de densidade:**"
   ]
  },
  {
   "cell_type": "code",
   "execution_count": 23,
   "metadata": {},
   "outputs": [
    {
     "data": {
      "image/png": "[encoded data removed]",
      "text/plain": [
       "<Figure size 432x288 with 1 Axes>"
      ]
     },
     "metadata": {
      "needs_background": "light"
     },
     "output_type": "display_data"
    }
   ],
   "source": [
    "df.GDPcapita.plot.hist(density = True, bins = 10);"
   ]
  },
  {
   "cell_type": "markdown",
   "metadata": {},
   "source": [
    "<a id=\"duas_variaveis\"></a>\n",
    "**Analisando duas variáveis:**"
   ]
  },
  {
   "cell_type": "code",
   "execution_count": 24,
   "metadata": {},
   "outputs": [
    {
     "data": {
      "image/png": "[encoded data removed]",
      "text/plain": [
       "<Figure size 432x288 with 1 Axes>"
      ]
     },
     "metadata": {
      "needs_background": "light"
     },
     "output_type": "display_data"
    },
    {
     "name": "stdout",
     "output_type": "stream",
     "text": [
      "Correlação entre surface e GDPcapita = 0.07\n"
     ]
    }
   ],
   "source": [
    "def reta(dados_x, dados_y):    \n",
    "    a = dados_y.cov(dados_x) / dados_x.var()\n",
    "    b = dados_y.mean() - a * dados_x.mean()\n",
    "    \n",
    "    plt.plot((dados_x.min(), dados_x.max()), (a * dados_x.min() + b, a * dados_x.max() + b), color = 'red')\n",
    "    \n",
    "area = df.surface\n",
    "renda = df.GDPcapita\n",
    "\n",
    "plt.scatter(area, renda)\n",
    "plt.yscale('log')\n",
    "plt.xscale('log')\n",
    "reta(area, renda)\n",
    "plt.show()\n",
    "\n",
    "print('Correlação entre surface e GDPcapita = {}'.format(df.surface.corr(df.GDPcapita).round(2)))"
   ]
  },
  {
   "cell_type": "markdown",
   "metadata": {},
   "source": [
    "## Modelos Probabilísticos"
   ]
  },
  {
   "cell_type": "markdown",
   "metadata": {},
   "source": [
    "<a id=\"exercicios\"></a>\n",
    "**Exercícios Normal:**\n",
    "\n",
    "Colesterol é um ácido graxo que é componente importante da membrana das células dos animais. A faixa normal para um adulto é entre $120-240 mg/dl$. O Instituto de Nutrição e Saúde das Filipinas descobriu que os adultos daquele país têm média de 159.2 mg/dl e 84.1% dos adultos têm um nível de menos que 200 mg/dl. Suponha que o colesterol é distribuído normalmente\n",
    "\n",
    "1. Encontre o desvio padrão desta distribuição\n",
    "2. Quais são os quartis da distribuição?\n",
    "3. Qual o valor de colesterol excedido por 90% da população?\n",
    "1. Um adulto tem risco moderado se está mais que 2 desvios padrão acima da média. Qual a porcentagem da população que está em risco?\n"
   ]
  },
  {
   "cell_type": "code",
   "execution_count": 25,
   "metadata": {},
   "outputs": [
    {
     "name": "stdout",
     "output_type": "stream",
     "text": [
      "1. Desvio Padrão = 40.86\n",
      "2. Q1 = 131.64\n",
      "   Q3 = 186.76\n",
      "3. 90% da população tem um colesterol maior que 106.84\n",
      "4. O percentual de pessoas que está em risco é de 2.28%\n"
     ]
    }
   ],
   "source": [
    "# Exercício 1\n",
    "# P(X<200) = 0.841\n",
    "mi = 159.2\n",
    "\n",
    "z = stats.norm.ppf(0.841)\n",
    "\n",
    "# z = (x - mi) / sigma\n",
    "sigma = (200 - mi) / z\n",
    "print('1. Desvio Padrão = {:.2f}'.format(sigma))\n",
    "\n",
    "# Exercício 2\n",
    "Q1 = stats.norm.ppf(0.25, loc = mi, scale = sigma)\n",
    "Q3 = stats.norm.ppf(0.75, loc = mi, scale = sigma)\n",
    "print('2. Q1 = {}'.format(Q1.round(2)))\n",
    "print('   Q3 = {}'.format(Q3.round(2)))\n",
    "\n",
    "# Exercício 3\n",
    "# 1 - 0.9 = 0.1\n",
    "resp3 = stats.norm.ppf(0.1, loc = mi, scale = sigma)\n",
    "print('3. 90% da população tem um colesterol maior que {:.2f}'.format(resp3))\n",
    "\n",
    "# Exercício 4\n",
    "valor = mi + 2 * sigma\n",
    "risco = 1 - stats.norm.cdf(valor, loc = mi, scale = sigma)\n",
    "print('4. O percentual de pessoas que está em risco é de {:.2f}%'.format(risco * 100))"
   ]
  },
  {
   "cell_type": "markdown",
   "metadata": {},
   "source": [
    "Você recebeu o arquivo `dados_normal.txt` com dados de concentração (em $\\mu g/L$) de um determinado poluente em um tanque de combustível\n",
    "\n",
    "Pede-se:\n",
    "\n",
    "1. Visualize o histograma dos dados\n",
    "1. Usando um plot de probabilidade, ou QQ-Plot, verifique se os dados aparentam seguir uma distribuição normal\n",
    "1. Realize o `fit`  de uma distribuição normal, e faça o plot da `pdf` sobre o histograma de densidade da distribuição"
   ]
  },
  {
   "cell_type": "code",
   "execution_count": 26,
   "metadata": {},
   "outputs": [
    {
     "data": {
      "image/png": "[encoded data removed]",
      "text/plain": [
       "<Figure size 432x288 with 1 Axes>"
      ]
     },
     "metadata": {
      "needs_background": "light"
     },
     "output_type": "display_data"
    }
   ],
   "source": [
    "dados = \"\"\n",
    "with open(\"dados_normal_1000.txt\") as f:\n",
    "    dados = \" \".join(f.readlines())\n",
    "\n",
    "# Exercício 1\n",
    "dados = [float(value) for value in dados.split()]\n",
    "plt.hist(dados, density = True, bins = 20);"
   ]
  },
  {
   "cell_type": "code",
   "execution_count": 27,
   "metadata": {},
   "outputs": [
    {
     "data": {
      "image/png": "[encoded data removed]",
      "text/plain": [
       "<Figure size 432x288 with 1 Axes>"
      ]
     },
     "metadata": {
      "needs_background": "light"
     },
     "output_type": "display_data"
    }
   ],
   "source": [
    "# Exercício 2\n",
    "stats.probplot(dados, dist = \"norm\", plot = plt);"
   ]
  },
  {
   "cell_type": "code",
   "execution_count": 28,
   "metadata": {},
   "outputs": [
    {
     "data": {
      "image/png": "[encoded data removed]",
      "text/plain": [
       "<Figure size 432x288 with 1 Axes>"
      ]
     },
     "metadata": {
      "needs_background": "light"
     },
     "output_type": "display_data"
    }
   ],
   "source": [
    "# Exercício 3\n",
    "loc, scale = stats.norm.fit(dados)\n",
    "x = np.linspace(400, 600, 1000)\n",
    "y = stats.norm.pdf(x, loc = loc, scale = scale)\n",
    "\n",
    "plt.hist(dados, density=True, bins=20);\n",
    "plt.plot(x, y, 'r-')\n",
    "plt.show()"
   ]
  },
  {
   "cell_type": "markdown",
   "metadata": {},
   "source": [
    "<a id=\"curvas_amostras\"></a>\n",
    "**Construindo as curvas e gerando amostras aleatórias:**"
   ]
  },
  {
   "cell_type": "code",
   "execution_count": 29,
   "metadata": {},
   "outputs": [],
   "source": [
    "n = 100000\n",
    "# Vamos criar uma faixa no eixo x, válida para ambas\n",
    "eixo_x = np.linspace(-1, 20, 600)\n",
    "\n",
    "pdf_unif = stats.uniform.pdf(eixo_x, loc = 4, scale = 3)\n",
    "pdf_exp = stats.expon.pdf(eixo_x, scale = 3)\n",
    "\n",
    "x = stats.uniform.rvs(loc = 4, scale = 3, size = n)\n",
    "y = stats.expon.rvs(scale = 3, size = n)"
   ]
  },
  {
   "cell_type": "markdown",
   "metadata": {},
   "source": [
    "<a id=\"combinacao\"></a>\n",
    "**Fazendo a combinação das amostras aleatórias:**"
   ]
  },
  {
   "cell_type": "code",
   "execution_count": 30,
   "metadata": {},
   "outputs": [],
   "source": [
    "z = x + y # note que estamos somando elemento a elemento de x e y e obtendo um novo array"
   ]
  },
  {
   "cell_type": "code",
   "execution_count": 31,
   "metadata": {},
   "outputs": [
    {
     "data": {
      "image/png": "[encoded data removed]",
      "text/plain": [
       "<Figure size 432x288 with 1 Axes>"
      ]
     },
     "metadata": {
      "needs_background": "light"
     },
     "output_type": "display_data"
    }
   ],
   "source": [
    "plt.hist(z, label=\"z\", bins=80, density=True)\n",
    "plt.plot(eixo_x, pdf_unif, label=\"uniforme\")\n",
    "plt.plot(eixo_x, pdf_exp, label=\"exponencial\")\n",
    "plt.legend();"
   ]
  }
 ],
 "metadata": {
  "kernelspec": {
   "display_name": "Python 3",
   "language": "python",
   "name": "python3"
  },
  "language_info": {
   "codemirror_mode": {
    "name": "ipython",
    "version": 3
   },
   "file_extension": ".py",
   "mimetype": "text/x-python",
   "name": "python",
   "nbconvert_exporter": "python",
   "pygments_lexer": "ipython3",
   "version": "3.8.10 (default, Jun 22 2022, 20:18:18) \n[GCC 9.4.0]"
  },
  "vscode": {
   "interpreter": {
    "hash": "916dbcbb3f70747c44a77c7bcd40155683ae19c65e1c03b4aa3499c5328201f1"
   }
  }
 },
 "nbformat": 4,
 "nbformat_minor": 2
}
